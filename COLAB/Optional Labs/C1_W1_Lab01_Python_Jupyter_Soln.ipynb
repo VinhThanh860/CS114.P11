{
  "cells": [
    {
      "cell_type": "markdown",
      "metadata": {
        "id": "view-in-github",
        "colab_type": "text"
      },
      "source": [
        "<a href=\"https://colab.research.google.com/github/VinhThanh860/CS114.P11/blob/main/COLAB/Optional%20Labs/C1_W1_Lab01_Python_Jupyter_Soln.ipynb\" target=\"_parent\"><img src=\"https://colab.research.google.com/assets/colab-badge.svg\" alt=\"Open In Colab\"/></a>"
      ]
    },
    {
      "cell_type": "markdown",
      "metadata": {
        "pycharm": {
          "name": "#%% md\n"
        },
        "id": "zDOk4xOIspn1"
      },
      "source": [
        "# Optional Lab:  Brief Introduction to Python and Jupyter Notebooks\n",
        "Welcome to the first optional lab!\n",
        "Optional labs are available to:\n",
        "- provide information - like this notebook\n",
        "- reinforce lecture material with hands-on examples\n",
        "- provide working examples of routines used in the graded labs"
      ],
      "id": "zDOk4xOIspn1"
    },
    {
      "cell_type": "markdown",
      "metadata": {
        "pycharm": {
          "name": "#%% md\n"
        },
        "id": "FNBk87gXspn4"
      },
      "source": [
        "## Goals\n",
        "In this lab, you will:\n",
        "- Get a brief introduction to Jupyter notebooks\n",
        "- Take a tour of Jupyter notebooks\n",
        "- Learn the difference between markdown cells and code cells\n",
        "- Practice some basic python\n"
      ],
      "id": "FNBk87gXspn4"
    },
    {
      "cell_type": "markdown",
      "metadata": {
        "pycharm": {
          "name": "#%% md\n"
        },
        "id": "BmyFZIaIspn5"
      },
      "source": [
        "The easiest way to become familiar with Jupyter notebooks is to take the tour available above in the Help menu:"
      ],
      "id": "BmyFZIaIspn5"
    },
    {
      "cell_type": "markdown",
      "metadata": {
        "pycharm": {
          "name": "#%% md\n"
        },
        "id": "J9iDzh5Vspn5"
      },
      "source": [
        "<figure>\n",
        "    <center> <img src=\"./images/C1W1L1_Tour.PNG\"  alt='missing' width=\"400\"  ><center/>\n",
        "<figure/>"
      ],
      "id": "J9iDzh5Vspn5"
    },
    {
      "cell_type": "markdown",
      "metadata": {
        "pycharm": {
          "name": "#%% md\n"
        },
        "id": "OShiXxSespn6"
      },
      "source": [
        "Jupyter notebooks have two types of cells that are used in this course. Cells such as this which contain documentation called `Markdown Cells`. The name is derived from the simple formatting language used in the cells. You will not be required to produce markdown cells. Its useful to understand the `cell pulldown` shown in graphic below. Occasionally, a cell will end up in the wrong mode and you may need to restore it to the right state:"
      ],
      "id": "OShiXxSespn6"
    },
    {
      "cell_type": "markdown",
      "metadata": {
        "pycharm": {
          "name": "#%% md\n"
        },
        "id": "E4R-AhCaspn6"
      },
      "source": [
        "<figure>\n",
        "   <img src=\"./images/C1W1L1_Markdown.PNG\"  alt='missing' width=\"400\"  >\n",
        "<figure/>"
      ],
      "id": "E4R-AhCaspn6"
    },
    {
      "cell_type": "markdown",
      "metadata": {
        "pycharm": {
          "name": "#%% md\n"
        },
        "id": "2vuTVN8bspn6"
      },
      "source": [
        "The other type of cell is the `code cell` where you will write your code:"
      ],
      "id": "2vuTVN8bspn6"
    },
    {
      "cell_type": "code",
      "execution_count": null,
      "metadata": {
        "pycharm": {
          "name": "#%%\n"
        },
        "id": "Z0je-Hsrspn6",
        "outputId": "e9fff16c-d467-432b-b015-20d508d57389",
        "colab": {
          "base_uri": "https://localhost:8080/"
        }
      },
      "outputs": [
        {
          "output_type": "stream",
          "name": "stdout",
          "text": [
            "This is  code cell\n"
          ]
        }
      ],
      "source": [
        "#This is  a 'Code' Cell\n",
        "print(\"This is  code cell\")"
      ],
      "id": "Z0je-Hsrspn6"
    },
    {
      "cell_type": "markdown",
      "metadata": {
        "pycharm": {
          "name": "#%% md\n"
        },
        "id": "stLbDahkspn8"
      },
      "source": [
        "## Python\n",
        "You can write your code in the code cells.\n",
        "To run the code, select the cell and either\n",
        "- hold the shift-key down and hit 'enter' or 'return'\n",
        "- click the 'run' arrow above\n",
        "<figure>\n",
        "    <img src=\"./images/C1W1L1_Run.PNG\"  width=\"400\"  >\n",
        "<figure/>\n",
        "\n"
      ],
      "id": "stLbDahkspn8"
    },
    {
      "cell_type": "markdown",
      "metadata": {
        "pycharm": {
          "name": "#%% md\n"
        },
        "id": "_k0h81GHspn9"
      },
      "source": [
        "### Print statement\n",
        "Print statements will generally use the python f-string style.  \n",
        "Try creating your own print in the following cell.  \n",
        "Try both methods of running the cell."
      ],
      "id": "_k0h81GHspn9"
    },
    {
      "cell_type": "code",
      "execution_count": null,
      "metadata": {
        "pycharm": {
          "name": "#%%\n"
        },
        "id": "UcCvhq46spn9",
        "outputId": "7406c714-83c2-4ae1-d09b-bcdcb3023b36",
        "colab": {
          "base_uri": "https://localhost:8080/"
        }
      },
      "outputs": [
        {
          "output_type": "stream",
          "name": "stdout",
          "text": [
            "f strings allow you to embed variables right in the strings!\n"
          ]
        }
      ],
      "source": [
        "# print statements\n",
        "variable = \"right in the strings!\"\n",
        "print(f\"f strings allow you to embed variables {variable}\")"
      ],
      "id": "UcCvhq46spn9"
    },
    {
      "cell_type": "markdown",
      "metadata": {
        "pycharm": {
          "name": "#%% md\n"
        },
        "id": "MZ6XPOuXspn9"
      },
      "source": [
        "# Congratulations!\n",
        "You now know how to find your way around a Jupyter Notebook."
      ],
      "id": "MZ6XPOuXspn9"
    }
  ],
  "metadata": {
    "kernelspec": {
      "display_name": "Python 3",
      "language": "python",
      "name": "python3"
    },
    "language_info": {
      "codemirror_mode": {
        "name": "ipython",
        "version": 3
      },
      "file_extension": ".py",
      "mimetype": "text/x-python",
      "name": "python",
      "nbconvert_exporter": "python",
      "pygments_lexer": "ipython3",
      "version": "3.7.6"
    },
    "colab": {
      "provenance": [],
      "include_colab_link": true
    }
  },
  "nbformat": 4,
  "nbformat_minor": 5
}